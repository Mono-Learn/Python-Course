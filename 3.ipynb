{
 "cells": [
  {
   "cell_type": "markdown",
   "metadata": {},
   "source": [
    "<div style=\"text-align:center\">\n",
    "    <img src=\"files/monolearn-logo.png\" height=\"150px\">\n",
    "    <h1>Python course</h1>\n",
    "    <h3>Session 03: Strings, Regular Expression, Lists, Dictionaries, Tuples</h3>\n",
    "    <h4><a href=\"https://amzenterprise.ir/\">Ali Momenzadeh</a></h5>\n",
    "</div>"
   ]
  },
  {
   "cell_type": "markdown",
   "metadata": {},
   "source": [
    "### Strings"
   ]
  },
  {
   "cell_type": "code",
   "execution_count": null,
   "metadata": {},
   "outputs": [],
   "source": [
    "text = \"mary and samantha took the bus.\"\n",
    "print(text.capitalize())"
   ]
  },
  {
   "cell_type": "code",
   "execution_count": null,
   "metadata": {},
   "outputs": [],
   "source": [
    "text = \"mary and samantha took the bus.\"\n",
    "print(text.upper())"
   ]
  },
  {
   "cell_type": "code",
   "execution_count": null,
   "metadata": {},
   "outputs": [],
   "source": [
    "text = \"mary and samantha took the bus.\"\n",
    "print(f\"Number of occurrences: {text.count('a')}\")"
   ]
  },
  {
   "cell_type": "code",
   "execution_count": null,
   "metadata": {},
   "outputs": [],
   "source": [
    "code1 = \"FVNISJND-XX-2020\"\n",
    "code2 = \"FVNISJND-XY-2019\"\n",
    "print(f\"code1: {code1.endswith('2020')}\")\n",
    "print(f\"code2: {code2.endswith('2020')}\")"
   ]
  },
  {
   "cell_type": "code",
   "execution_count": null,
   "metadata": {},
   "outputs": [],
   "source": [
    "path1 = \"youtube.com/watch?v=5EhRztVxums\"\n",
    "path2 = \"google.com/search?q=car\"\n",
    "print(f\"path1: {path1.startswith('youtube')}\")\n",
    "print(f\"path2: {path2.startswith('youtube')}\")"
   ]
  },
  {
   "cell_type": "code",
   "execution_count": null,
   "metadata": {},
   "outputs": [],
   "source": [
    "# Hello\n",
    "# Indexes => H = 0, e = 1, l = 2, l = 3, o = 4"
   ]
  },
  {
   "cell_type": "code",
   "execution_count": null,
   "metadata": {},
   "outputs": [],
   "source": [
    "path1 = \"https://e-smartdata.teachable.com/p/sciezka-data-scientist-machine-learning-engineer\"\n",
    "path2 = \"https://e-smartdata.teachable.com/p/sciezka-data-scientist-deep-learning-engineer\"\n",
    "path3 = \"https://e-smartdata.teachable.com/p/sciezka-bi-analyst-data-analyst\"\n",
    "print(f\"path1: {path1.find('scientist')}\")\n",
    "print(f\"path2: {path2.find('scientist')}\")\n",
    "print(f\"path3: {path3.find('scientist')}\")"
   ]
  },
  {
   "cell_type": "code",
   "execution_count": null,
   "metadata": {},
   "outputs": [],
   "source": [
    "code1 = \"FVNISJND-20\"\n",
    "code2 = \"FVNISJND20\"\n",
    "print(f'code1: {code1.isalnum()}')\n",
    "print(f'code2: {code2.isalnum()}')"
   ]
  },
  {
   "cell_type": "code",
   "execution_count": null,
   "metadata": {},
   "outputs": [],
   "source": [
    "text = \"Google Colab\"\n",
    "print(text.lower())"
   ]
  },
  {
   "cell_type": "code",
   "execution_count": null,
   "metadata": {},
   "outputs": [],
   "source": [
    "text = \"Google Colab\"\n",
    "print(text.upper())"
   ]
  },
  {
   "cell_type": "code",
   "execution_count": null,
   "metadata": {},
   "outputs": [],
   "source": [
    "text = \"  Google Colab   \"\n",
    "print(text.strip())"
   ]
  },
  {
   "cell_type": "code",
   "execution_count": null,
   "metadata": {},
   "outputs": [],
   "source": [
    "code = \"FVNISJND-XX\"\n",
    "print(code.replace('-', ' '))"
   ]
  },
  {
   "cell_type": "code",
   "execution_count": null,
   "metadata": {},
   "outputs": [],
   "source": [
    "text = \"340-23-245-235\"\n",
    "print(text.replace('-', ''))"
   ]
  },
  {
   "cell_type": "code",
   "execution_count": null,
   "metadata": {},
   "outputs": [],
   "source": [
    "text = \"340-23-245-235\"\n",
    "print(text.replace('-', '*'))"
   ]
  },
  {
   "cell_type": "code",
   "execution_count": null,
   "metadata": {},
   "outputs": [],
   "source": [
    "text = \"Open,High,Low,Close\"\n",
    "print(text.split(','))"
   ]
  },
  {
   "cell_type": "code",
   "execution_count": null,
   "metadata": {},
   "outputs": [],
   "source": [
    "# text = \"Hello\n",
    "# world\""
   ]
  },
  {
   "cell_type": "code",
   "execution_count": null,
   "metadata": {},
   "outputs": [],
   "source": [
    "text = \"\"\"Python is a general-purpose language.\n",
    "Python is popular.\"\"\"\n",
    "print(text.splitlines())\n",
    "# print(type(text.splitlines()))"
   ]
  },
  {
   "cell_type": "code",
   "execution_count": null,
   "metadata": {},
   "outputs": [],
   "source": [
    "num = 34\n",
    "# print(num.zfill(6))\n",
    "print(str(num).zfill(6))"
   ]
  },
  {
   "cell_type": "code",
   "execution_count": null,
   "metadata": {},
   "outputs": [],
   "source": [
    "url = \"https://e-smartdata.teachable.com/p/sciezka-data-scientist-machine-learning-engineer\"\n",
    "\n",
    "print(url.split('/'))\n",
    "\n",
    "name = url.split('/')[-1]\n",
    "name = name.replace('-', ' ')\n",
    "print(name)"
   ]
  },
  {
   "cell_type": "markdown",
   "metadata": {},
   "source": [
    "#### Slicing"
   ]
  },
  {
   "cell_type": "code",
   "execution_count": null,
   "metadata": {},
   "outputs": [],
   "source": [
    "filename = \"view.jpg\"\n",
    "print(filename[-3:])"
   ]
  },
  {
   "cell_type": "code",
   "execution_count": null,
   "metadata": {},
   "outputs": [],
   "source": [
    "filename = \"view.jpg\"\n",
    "print(filename[5:])"
   ]
  },
  {
   "cell_type": "code",
   "execution_count": null,
   "metadata": {},
   "outputs": [],
   "source": [
    "string = \"PKV-89415-PLN\"\n",
    "# From end indexes => N= -1, L = -2, P = -3\n",
    "# string[:3] => 0, 1, 2 => PKV\n",
    "# string[-3:]=> P= -3 => Till the end\n",
    "code = string[:3] + string[-3:]\n",
    "print(code)"
   ]
  },
  {
   "cell_type": "code",
   "execution_count": null,
   "metadata": {},
   "outputs": [],
   "source": [
    "string = \"1 0 0 1 0 1\"\n",
    "binary = string[::2]\n",
    "number = int(binary, 2)\n",
    "print(f'Number found: {number}')"
   ]
  },
  {
   "cell_type": "code",
   "execution_count": null,
   "metadata": {},
   "outputs": [],
   "source": [
    "text = \"Python Course\"\n",
    "print(text[::-1])"
   ]
  },
  {
   "cell_type": "markdown",
   "metadata": {},
   "source": [
    "### Regular expressions"
   ]
  },
  {
   "cell_type": "markdown",
   "metadata": {},
   "source": [
    "##### More on regular expressions:\n",
    "###### https://docs.python.org/3/howto/regex.html\n",
    "###### https://www.w3schools.com/python/python_regex.asp\n",
    "###### https://www.geeksforgeeks.org/regular-expression-python-examples-set-1/"
   ]
  },
  {
   "cell_type": "code",
   "execution_count": null,
   "metadata": {},
   "outputs": [],
   "source": [
    "import re\n",
    "\n",
    "str = \"Hello Ali, how are you Ali? I am fine. And you?\"\n",
    "\n",
    "result = re.search(r'ali', str)\n",
    "print(result)\n",
    "\n",
    "result = re.search(r'Ali', str)\n",
    "print(result)"
   ]
  },
  {
   "cell_type": "code",
   "execution_count": null,
   "metadata": {},
   "outputs": [],
   "source": [
    "result = re.sub(r'Ali', 'Mohammad', str)\n",
    "print(result)"
   ]
  },
  {
   "cell_type": "code",
   "execution_count": null,
   "metadata": {},
   "outputs": [],
   "source": [
    "s = \"My favourite numbers are 1, 3, 7.\"\n",
    "lst = re.findall('[0-9]+', s)  \n",
    "print(lst)"
   ]
  },
  {
   "cell_type": "code",
   "execution_count": null,
   "metadata": {},
   "outputs": [],
   "source": [
    "regex = r'\\b[A-Za-z0-9._%+-]+@[A-Za-z0-9.-]+\\.[A-Z|a-z]{2,}\\b'\n",
    "\n",
    "def check_email(email):\n",
    "    if(re.fullmatch(regex, email)):\n",
    "        print(\"Valid Email\")\n",
    "    else:\n",
    "        print(\"Invalid Email\")\n",
    "\n",
    "check_email(\"ankitrai326@gmail.com\")\n",
    "check_email(\"my.ownsite@our-earth.org\")\n",
    "check_email(\"ankitrai326.com\")"
   ]
  },
  {
   "cell_type": "markdown",
   "metadata": {},
   "source": [
    "### Data structures"
   ]
  },
  {
   "cell_type": "markdown",
   "metadata": {},
   "source": [
    "#### Sets"
   ]
  },
  {
   "cell_type": "code",
   "execution_count": null,
   "metadata": {},
   "outputs": [],
   "source": [
    "subjects = {'mathematics', 'biology'}\n",
    "subjects.add('english')\n",
    "print(subjects)\n",
    "\n",
    "subjects.remove('biology')\n",
    "print(subjects)"
   ]
  },
  {
   "cell_type": "markdown",
   "metadata": {},
   "source": [
    "<img src=\"files/3/symmetric_difference.png\" height=\"100px\">"
   ]
  },
  {
   "cell_type": "code",
   "execution_count": null,
   "metadata": {},
   "outputs": [],
   "source": [
    "A = {2, 4, 6, 8}\n",
    "B = {4, 10}\n",
    "sym_diff = A.symmetric_difference(B)\n",
    "print(f'Symmetric difference: {sym_diff}')"
   ]
  },
  {
   "cell_type": "code",
   "execution_count": null,
   "metadata": {},
   "outputs": [],
   "source": [
    "ad1_id = {'001', '002', '003'}\n",
    "ad2_id = {'002', '003', '007'}\n",
    "result = ad1_id.symmetric_difference(ad2_id)\n",
    "print(f'Selected ID: {result}')"
   ]
  },
  {
   "cell_type": "code",
   "execution_count": null,
   "metadata": {},
   "outputs": [],
   "source": [
    "is_clicked = {'9001', '9002', '9005'}\n",
    "is_bought = {'9002', '9004', '9005'}\n",
    "result = is_clicked.intersection(is_bought)\n",
    "print(f'Customer ID: {result}')"
   ]
  },
  {
   "cell_type": "code",
   "execution_count": null,
   "metadata": {},
   "outputs": [],
   "source": [
    "is_clicked = {'9001', '9002', '9005', '9005', '9005'}\n",
    "print(is_clicked)"
   ]
  },
  {
   "cell_type": "markdown",
   "metadata": {},
   "source": [
    "#### Tuples"
   ]
  },
  {
   "cell_type": "code",
   "execution_count": null,
   "metadata": {},
   "outputs": [],
   "source": [
    "animals1 = ('Cat', 'Dog', 'Lion')\n",
    "animals2 = ('Parrot', 'Monkey')\n",
    "result = animals1 + animals2\n",
    "print(result)"
   ]
  },
  {
   "cell_type": "code",
   "execution_count": null,
   "metadata": {},
   "outputs": [],
   "source": [
    "animals1 = ('Cat', 'Dog', 'Lion')\n",
    "animals2 = ('Parrot', 'Monkey')\n",
    "result = (animals1, animals2)\n",
    "print(result)"
   ]
  },
  {
   "cell_type": "code",
   "execution_count": null,
   "metadata": {},
   "outputs": [],
   "source": [
    "members = (('Kate', 23), ('Tom', 19))\n",
    "members = (members[0], ('John', 26), members[1])\n",
    "print(members)"
   ]
  },
  {
   "cell_type": "code",
   "execution_count": null,
   "metadata": {},
   "outputs": [],
   "source": [
    "default = ('YES', 'NO', 'NO', 'YES', 'NO')\n",
    "print(f\"Number of occurrences: {default.count('YES')}\")"
   ]
  },
  {
   "cell_type": "code",
   "execution_count": null,
   "metadata": {},
   "outputs": [],
   "source": [
    "names = ('Monica', 'Tom', 'John', 'Michael')\n",
    "print(sorted(names))\n",
    "print((sorted(names)))\n",
    "sorted_names = tuple(sorted(names))\n",
    "print(sorted_names)"
   ]
  },
  {
   "cell_type": "code",
   "execution_count": null,
   "metadata": {},
   "outputs": [],
   "source": [
    "info = (('Monica', 19), ('Tom', 21), ('John', 18))\n",
    "asc = tuple(sorted(info, key=lambda item: item[1]))\n",
    "desc = tuple(sorted(info, key=lambda item: item[1], reverse=True))\n",
    "print(f'Ascending: {asc}')\n",
    "print(f'Descending: {desc}')"
   ]
  },
  {
   "cell_type": "code",
   "execution_count": null,
   "metadata": {},
   "outputs": [],
   "source": [
    "stocks = (('Apple Inc', ('AAPL.US', 310)), ('Microsoft Corp', ('MSFT.US', 184)))\n",
    "print(stocks[0][1][0])"
   ]
  },
  {
   "cell_type": "markdown",
   "metadata": {},
   "source": [
    "#### Lists"
   ]
  },
  {
   "cell_type": "code",
   "execution_count": null,
   "metadata": {},
   "outputs": [],
   "source": [
    "cities = ['Los Angeles', 'New York', 'Chicago']\n",
    "cities.append('Houston')\n",
    "print(cities)"
   ]
  },
  {
   "cell_type": "code",
   "execution_count": null,
   "metadata": {},
   "outputs": [],
   "source": [
    "idx = ['001', '002', '001', '003', '001']\n",
    "print(f\"Number of occurrences: {idx.count('001')}\")"
   ]
  },
  {
   "cell_type": "code",
   "execution_count": null,
   "metadata": {},
   "outputs": [],
   "source": [
    "text = \"Python programming\"\n",
    "text = text.lower()\n",
    "print(list(text))\n",
    "\n",
    "characters = list(set(text))\n",
    "characters.remove(' ')\n",
    "characters.sort()\n",
    "print(characters)"
   ]
  },
  {
   "cell_type": "code",
   "execution_count": null,
   "metadata": {},
   "outputs": [],
   "source": [
    "filenames = ['view.jpg', 'bear.jpg', 'ball.png']\n",
    "filenames.insert(0, 'phone.jpg')\n",
    "filenames.remove('ball.png')\n",
    "print(filenames)"
   ]
  },
  {
   "cell_type": "code",
   "execution_count": null,
   "metadata": {},
   "outputs": [],
   "source": [
    "day1 = ['3984', '9042', '4829', '2380']\n",
    "day2 = ['4231', '5234', '1345', '2455']\n",
    "day1.extend(day2)\n",
    "print(day1)\n",
    "print(day2)"
   ]
  },
  {
   "cell_type": "code",
   "execution_count": null,
   "metadata": {},
   "outputs": [],
   "source": [
    "techs = ('python', 'java', 'sql', 'aws')\n",
    "techs = tuple(sorted(techs))\n",
    "print(techs)"
   ]
  },
  {
   "cell_type": "code",
   "execution_count": null,
   "metadata": {},
   "outputs": [],
   "source": [
    "hashtags = ['summer', 'time', 'vibes']\n",
    "print('*'.join(hashtags))"
   ]
  },
  {
   "cell_type": "markdown",
   "metadata": {},
   "source": [
    "#### Dictionaries"
   ]
  },
  {
   "cell_type": "code",
   "execution_count": null,
   "metadata": {},
   "outputs": [],
   "source": [
    "capitals = {\n",
    "    'USA': 'Washington',\n",
    "    'Germany': 'Berlin',\n",
    "    'Austria': 'Vienna'\n",
    "}\n",
    "\n",
    "print(capitals)\n",
    "print(capitals.keys())\n",
    "print(capitals.values())"
   ]
  },
  {
   "cell_type": "code",
   "execution_count": null,
   "metadata": {},
   "outputs": [],
   "source": [
    "capitals = {\n",
    "    'USA': 'Washington',\n",
    "    'Germany': 'Berlin',\n",
    "    'Austria': 'Vienna'\n",
    "    }\n",
    "\n",
    "print(capitals.items())"
   ]
  },
  {
   "cell_type": "code",
   "execution_count": null,
   "metadata": {},
   "outputs": [],
   "source": [
    "capitals = {\n",
    "    'USA': 'Washington',\n",
    "    'Germany': 'Berlin',\n",
    "    'Austria': 'Vienna'\n",
    "}\n",
    "\n",
    "print(capitals.get('Austria'))"
   ]
  },
  {
   "cell_type": "code",
   "execution_count": null,
   "metadata": {},
   "outputs": [],
   "source": [
    "stocks = {\n",
    "    'MSFT.US': {'Microsoft Corp': 184},\n",
    "    'AAPL.US': {'Apple Inc': 310},\n",
    "    'MMM.US': {'3M Co': 148}\n",
    "}\n",
    "\n",
    "print(stocks['AAPL.US'])\n",
    "print(stocks.get('AAPL.US'))"
   ]
  },
  {
   "cell_type": "code",
   "execution_count": null,
   "metadata": {},
   "outputs": [],
   "source": [
    "stocks = {\n",
    "    'MSFT.US': {'Microsoft Corp': 184},\n",
    "    'AAPL.US': {'Apple Inc': 310},\n",
    "    'MMM.US': {'3M Co': 148}\n",
    "}\n",
    "\n",
    "print(stocks['MSFT.US']['Microsoft Corp'])"
   ]
  },
  {
   "cell_type": "code",
   "execution_count": null,
   "metadata": {},
   "outputs": [],
   "source": [
    "stocks = {\n",
    "    'MSFT.US': {'Microsoft Corp': 184},\n",
    "    'AAPL.US': {'Apple Inc': 310},\n",
    "    'MMM.US': {'3M Co': 148}\n",
    "}\n",
    "\n",
    "stocks['MSFT.US']['Microsoft Corp'] = 190\n",
    "print(stocks['MSFT.US'])"
   ]
  },
  {
   "cell_type": "code",
   "execution_count": null,
   "metadata": {},
   "outputs": [],
   "source": [
    "stocks = {\n",
    "    'MSFT.US': {'Microsoft Corp': 184},\n",
    "    'AAPL.US': {'Apple Inc': 310},\n",
    "    'MMM.US': {'3M Co': 148}\n",
    "}\n",
    "\n",
    "stocks['V.US'] = {'Visa Inc': 185}\n",
    "print(stocks.values())"
   ]
  },
  {
   "cell_type": "code",
   "execution_count": null,
   "metadata": {},
   "outputs": [],
   "source": [
    "tickers = [\n",
    "    'AAPL.US', 'AXP.US', 'BA.US', 'CAT.US',\n",
    "    'CSCO.US', 'CVX.US', 'DIS.US', 'DOW.US',\n",
    "    'GS.US', 'HD.US', 'IBM.US', 'INTC.US'\n",
    "]\n",
    "\n",
    "print(list(enumerate(tickers)))"
   ]
  },
  {
   "cell_type": "code",
   "execution_count": null,
   "metadata": {},
   "outputs": [],
   "source": [
    "for i in enumerate(tickers):\n",
    "    print(i)"
   ]
  },
  {
   "cell_type": "code",
   "execution_count": null,
   "metadata": {},
   "outputs": [],
   "source": [
    "tickers = [\n",
    "    'AAPL.US', 'AXP.US', 'BA.US', 'CAT.US',\n",
    "    'CSCO.US', 'CVX.US', 'DIS.US', 'DOW.US',\n",
    "    'GS.US', 'HD.US', 'IBM.US', 'INTC.US'\n",
    "]\n",
    "\n",
    "print(dict(enumerate(tickers)))"
   ]
  },
  {
   "cell_type": "code",
   "execution_count": null,
   "metadata": {},
   "outputs": [],
   "source": [
    "project_ids = {\n",
    "    '01': 'open', \n",
    "    '03': 'in progress',\n",
    "    '05': 'in progress',\n",
    "    '04': 'completed'\n",
    "}\n",
    "\n",
    "result = list(set(project_ids.values()))\n",
    "result.sort()\n",
    "print(result)"
   ]
  },
  {
   "cell_type": "code",
   "execution_count": null,
   "metadata": {},
   "outputs": [],
   "source": [
    "stats = {'site': 'e-smartdata.org', 'traffic': 100, 'type': 'organic'}\n",
    "del stats['traffic']\n",
    "print(stats)"
   ]
  },
  {
   "cell_type": "code",
   "execution_count": null,
   "metadata": {},
   "outputs": [],
   "source": [
    "users = {'001': 'Mark', '002': 'Monica', '003': 'Jacob'}\n",
    "print(users.get('004'))\n",
    "print(users.get('004', 'indefinite'))"
   ]
  },
  {
   "cell_type": "markdown",
   "metadata": {},
   "source": [
    "### Transformation of data structures (Advanced)"
   ]
  },
  {
   "cell_type": "markdown",
   "metadata": {},
   "source": [
    "#### Set comprehension"
   ]
  },
  {
   "cell_type": "code",
   "execution_count": null,
   "metadata": {},
   "outputs": [],
   "source": [
    "omega = {(i, j) for i in range(1, 7) for j in range(1, 7)}\n",
    "print(omega)\n",
    "print(\"---\")\n",
    "\n",
    "sum_gt_10 = {pair for pair in omega if pair[0] + pair[1] > 10}\n",
    "print(sum_gt_10)\n",
    "print(\"---\")\n",
    "\n",
    "print(f'Probability: {len(sum_gt_10) / len(omega):.2f}')"
   ]
  },
  {
   "cell_type": "code",
   "execution_count": null,
   "metadata": {},
   "outputs": [],
   "source": [
    "omega = {(x, y) for x in range(1, 7) for y in range(1, 7)}\n",
    "print(omega)\n",
    "print(\"---\")\n",
    "\n",
    "a = {(x, y) for x, y in omega if x**2 + y**2 >= 45}\n",
    "print(a)\n",
    "print(\"---\")\n",
    "\n",
    "prob = round(len(a) / len(omega), 2)\n",
    "print(f'Probability: {prob}')"
   ]
  },
  {
   "cell_type": "code",
   "execution_count": null,
   "metadata": {},
   "outputs": [],
   "source": [
    "omega = {(x, y, z) for x in range(1, 7) for y in range(1, 7) for z in range(1, 7)}\n",
    "print(omega)\n",
    "print(\"---\")\n",
    "\n",
    "a = {(x, y, z) for x, y, z in omega if (x + y + z) % 7 == 0}\n",
    "print(a)\n",
    "print(\"---\")\n",
    "\n",
    "prob = round(len(a) / len(omega), 2)\n",
    "print(f'Probability: {prob}')"
   ]
  },
  {
   "cell_type": "code",
   "execution_count": null,
   "metadata": {},
   "outputs": [],
   "source": [
    "omega = {(x, y, z) for x in range(1, 7) for y in range(1, 7) for z in range(1, 7)}\n",
    "print(omega)\n",
    "print(\"---\")\n",
    "\n",
    "a = {(x, y, z) for x, y, z in omega if (x**2 + y**2 + z** 2) % 3 == 0}\n",
    "prob = round(len(a) / len(omega), 4)\n",
    "print(a)\n",
    "print(\"---\")\n",
    "\n",
    "print(f'Probability: {prob}')"
   ]
  },
  {
   "cell_type": "code",
   "execution_count": null,
   "metadata": {},
   "outputs": [],
   "source": [
    "omega = {(x, y, z) for x in range(1, 7) for y in range(1, 7) for z in range(1, 7)}\n",
    "print(omega)\n",
    "print(\"---\")\n",
    "\n",
    "a = {(x, y, z) for x, y, z in omega if x % 2 != 0 and y % 2 != 0 and z % 2 != 0}\n",
    "prob = round(len(a) / len(omega), 4)\n",
    "print(a)\n",
    "print(\"---\")\n",
    "\n",
    "print(f'Probability: {prob}')"
   ]
  },
  {
   "cell_type": "code",
   "execution_count": null,
   "metadata": {},
   "outputs": [],
   "source": [
    "desc = \"Playway: Playway is a producer of computer games.\"\n",
    "\n",
    "word_list = desc.lower().replace(':', '').replace('.', '').split()\n",
    "print(word_list)\n",
    "\n",
    "word_unique = {word for word in word_list}\n",
    "\n",
    "print(word_unique)\n",
    "print(len(word_unique))"
   ]
  },
  {
   "cell_type": "markdown",
   "metadata": {},
   "source": [
    "#### List comprehension"
   ]
  },
  {
   "cell_type": "code",
   "execution_count": null,
   "metadata": {},
   "outputs": [],
   "source": [
    "squares = [i * i for i in range(10)]\n",
    "print(squares)"
   ]
  },
  {
   "cell_type": "code",
   "execution_count": null,
   "metadata": {},
   "outputs": [],
   "source": [
    "tax = 0.23\n",
    "net_price = [5.5, 4.0, 9.0, 10.0]\n",
    "gross_price = [round(price * (1 + tax), 3) for price in net_price]\n",
    "print(gross_price)"
   ]
  },
  {
   "cell_type": "code",
   "execution_count": null,
   "metadata": {},
   "outputs": [],
   "source": [
    "pv = 1000\n",
    "n = 10\n",
    "rate = [0.01, 0.02, 0.03, 0.04, 0.05, 0.06, 0.07]\n",
    "fvs = [round(pv * (1 + r)**n, 2) for r in rate]\n",
    "print(fvs)"
   ]
  },
  {
   "cell_type": "code",
   "execution_count": null,
   "metadata": {},
   "outputs": [],
   "source": [
    "pv = 1000\n",
    "n = 10\n",
    "rate = [0.01, 0.02, 0.03, 0.04, 0.05, 0.06, 0.07]\n",
    "\n",
    "fvs = [pv * (1 + r)**n for r in rate]\n",
    "print(fvs)\n",
    "\n",
    "interest = [round(fv - pv, 2) for fv in fvs]\n",
    "print(interest)"
   ]
  },
  {
   "cell_type": "code",
   "execution_count": null,
   "metadata": {},
   "outputs": [],
   "source": [
    "data = dict(zip(('a', 'b', 'c', 'd', 'e', 'f'),(1, 2, 3, 4, 5, 6)))\n",
    "print(data)\n",
    "\n",
    "# result = [(key, val) for key, val in data.items()]\n",
    "result = [[key, val] for key, val in data.items()]\n",
    "print(result)"
   ]
  },
  {
   "cell_type": "markdown",
   "metadata": {},
   "source": [
    "#### Dictionary comprehension"
   ]
  },
  {
   "cell_type": "code",
   "execution_count": null,
   "metadata": {},
   "outputs": [],
   "source": [
    "result = {i:i**2 for i in range(1, 8)}\n",
    "print(result)"
   ]
  },
  {
   "cell_type": "code",
   "execution_count": null,
   "metadata": {},
   "outputs": [],
   "source": [
    "stocks = ['Playway', 'CD Projekt', 'Boombit']\n",
    "result = {name: len(name) for name in stocks}\n",
    "print(result)"
   ]
  },
  {
   "cell_type": "code",
   "execution_count": null,
   "metadata": {},
   "outputs": [],
   "source": [
    "stocks = {'Boombit': '001', 'CD Projekt': '002', 'Playway': '003'}\n",
    "result = {value:key for key, value in stocks.items()}\n",
    "print(result)"
   ]
  },
  {
   "cell_type": "code",
   "execution_count": null,
   "metadata": {},
   "outputs": [],
   "source": [
    "stocks = {'Boombit': 22, 'CD Projekt': 295, 'Playway': 350}\n",
    "# result = {key:val for key, val in stocks.items() if val > 100}\n",
    "result = {val:key for key, val in stocks.items() if val > 100}\n",
    "print(result)"
   ]
  },
  {
   "cell_type": "code",
   "execution_count": null,
   "metadata": {},
   "outputs": [],
   "source": [
    "data = [{i: i**j for i in range(1, 10)} for j in range(1, 4)]\n",
    "print(data)"
   ]
  },
  {
   "cell_type": "code",
   "execution_count": null,
   "metadata": {},
   "outputs": [],
   "source": [
    "properties = ['number of companies', 'companies', 'cap']\n",
    "indexes = ['WIG20', 'mWIG40', 'sWIG80']\n",
    "\n",
    "data = {idx: {i: None for i in properties} for idx in indexes}\n",
    "print(data)"
   ]
  },
  {
   "cell_type": "code",
   "execution_count": null,
   "metadata": {},
   "outputs": [],
   "source": [
    "indexes = ['WIG20', 'mWIG40', 'sWIG80']\n",
    "data = {key: val for key, val in enumerate(indexes)}\n",
    "\n",
    "print(data)\n",
    "print(\"---\")\n",
    "\n",
    "for i in enumerate(indexes):\n",
    "    print(i)"
   ]
  }
 ],
 "metadata": {
  "kernelspec": {
   "display_name": "Python 3.10.7 64-bit",
   "language": "python",
   "name": "python3"
  },
  "language_info": {
   "codemirror_mode": {
    "name": "ipython",
    "version": 3
   },
   "file_extension": ".py",
   "mimetype": "text/x-python",
   "name": "python",
   "nbconvert_exporter": "python",
   "pygments_lexer": "ipython3",
   "version": "3.10.7"
  },
  "orig_nbformat": 4,
  "vscode": {
   "interpreter": {
    "hash": "369f2c481f4da34e4445cda3fffd2e751bd1c4d706f27375911949ba6bb62e1c"
   }
  }
 },
 "nbformat": 4,
 "nbformat_minor": 2
}
