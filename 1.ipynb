{
 "cells": [
  {
   "cell_type": "markdown",
   "metadata": {},
   "source": [
    "<div style=\"text-align:center\">\n",
    "    <img src=\"files/monolearn-logo.png\" height=\"150px\">\n",
    "    <h1>Python course</h1>\n",
    "    <h3>Session 01: Variables, Expressions, Statements, Booleans, Conditions</h3>\n",
    "    <h4><a href=\"https://amzenterprise.ir/\">Ali Momenzadeh</a></h5>\n",
    "</div>"
   ]
  },
  {
   "cell_type": "code",
   "execution_count": null,
   "metadata": {},
   "outputs": [],
   "source": [
    "print(\"Hello world!\")"
   ]
  },
  {
   "cell_type": "markdown",
   "metadata": {},
   "source": [
    "### Variables"
   ]
  },
  {
   "cell_type": "markdown",
   "metadata": {},
   "source": [
    "<img src=\"files/1/ram.png\" height=\"300px\">\n",
    "<hr/>\n",
    "<img src=\"files/1/variables.png\" height=\"200px\">"
   ]
  },
  {
   "cell_type": "code",
   "execution_count": null,
   "metadata": {},
   "outputs": [],
   "source": [
    "myInt = 4\n",
    "myReal = 2.5\n",
    "myChar = \"a\"\n",
    "myString = \"hello\"\n",
    "\n",
    "print(myString)"
   ]
  },
  {
   "cell_type": "code",
   "execution_count": null,
   "metadata": {},
   "outputs": [],
   "source": [
    "age = 30\n",
    "name = \"Mohammad\"\n",
    "name = \"Hassan\"\n",
    "print(f\"Hello, I am {age} years old. My name is {name}.\")"
   ]
  },
  {
   "cell_type": "code",
   "execution_count": null,
   "metadata": {},
   "outputs": [],
   "source": [
    "name = 3.14\n",
    "print(name)\n",
    "\n",
    "pi = 3.14\n",
    "print(pi)"
   ]
  },
  {
   "cell_type": "code",
   "execution_count": null,
   "metadata": {},
   "outputs": [],
   "source": [
    "price = 192.000\n",
    "print(f\"The book price is {price}.\")"
   ]
  },
  {
   "cell_type": "code",
   "execution_count": null,
   "metadata": {},
   "outputs": [],
   "source": [
    "pi = 3.1415926535\n",
    "print(f\"Pi = {pi}\")\n",
    "print(f'Pi: {pi:.2f}')\n",
    "print(f'Pi: {pi:.6f}')"
   ]
  },
  {
   "cell_type": "code",
   "execution_count": null,
   "metadata": {},
   "outputs": [],
   "source": [
    "print(\"hello\")\n",
    "print('hello')"
   ]
  },
  {
   "cell_type": "code",
   "execution_count": null,
   "metadata": {},
   "outputs": [],
   "source": [
    "print(\"----------------------------------\")\n",
    "print('-' * 50)\n",
    "print('Hello my friend.')\n",
    "print('=' * 40)"
   ]
  },
  {
   "cell_type": "code",
   "execution_count": null,
   "metadata": {},
   "outputs": [],
   "source": [
    "print('summer', 'time', 'holiday', sep='&')\n",
    "print(\"summer#time#holiday\")"
   ]
  },
  {
   "cell_type": "markdown",
   "metadata": {},
   "source": [
    "### Expressions and statements"
   ]
  },
  {
   "cell_type": "code",
   "execution_count": null,
   "metadata": {},
   "outputs": [],
   "source": [
    "pi = 3.14\n",
    "radius = 9\n",
    "area = pi * radius ** 2\n",
    "print(f'Area: {area:.1f}')"
   ]
  },
  {
   "cell_type": "code",
   "execution_count": null,
   "metadata": {},
   "outputs": [],
   "source": [
    "pv = 1000\n",
    "r = 0.03\n",
    "n = 5\n",
    "fv = pv * (1 + r) ** n\n",
    "print(f'The future value of the investment: {fv:.2f} USD')"
   ]
  },
  {
   "cell_type": "code",
   "execution_count": null,
   "metadata": {},
   "outputs": [],
   "source": [
    "a = 3\n",
    "b = -4\n",
    "c = 5\n",
    "delta = b ** 2 - 4 * a * c\n",
    "print(f'Delta: {delta}')"
   ]
  },
  {
   "cell_type": "code",
   "execution_count": null,
   "metadata": {},
   "outputs": [],
   "source": [
    "a1 = 14\n",
    "a10 = 50\n",
    "n = 10\n",
    "s10 = ((a1 + a10) / 2) * n\n",
    "print(f'The sum of the first 10 elements in a sequence: {s10}')"
   ]
  },
  {
   "cell_type": "code",
   "execution_count": null,
   "metadata": {},
   "outputs": [],
   "source": [
    "a1 = 8\n",
    "a2 = 8 * 2\n",
    "n = 6\n",
    "q = a2 / a1\n",
    "s6 = a1 * ((1 - q**n) / (1 - q))\n",
    "print(f'The sum of the first {n} elements of the sequence is: {s6}')"
   ]
  },
  {
   "cell_type": "code",
   "execution_count": null,
   "metadata": {},
   "outputs": [],
   "source": [
    "print(f\"hello\\n  world\")\n",
    "\n",
    "print(\"   hello\")\n",
    "print(\"world\")"
   ]
  },
  {
   "cell_type": "code",
   "execution_count": null,
   "metadata": {},
   "outputs": [],
   "source": [
    "a = \" \"\n",
    "print(a)\n",
    "\n",
    "a = \"   hello\"\n",
    "print(a)"
   ]
  },
  {
   "cell_type": "code",
   "execution_count": null,
   "metadata": {},
   "outputs": [],
   "source": [
    "a = 1\n",
    "b = 5\n",
    "c = 4\n",
    "sum = -b / a\n",
    "product = c / a\n",
    "print(f'x1 + x2 = {sum}\\nx1x2 = {product}')"
   ]
  },
  {
   "cell_type": "code",
   "execution_count": null,
   "metadata": {},
   "outputs": [],
   "source": [
    "a1 = 2\n",
    "a2 = 4\n",
    "b1 = -4\n",
    "b2 = 6\n",
    "s1 = (a1 + b1) / 2\n",
    "s2 = (a2 + b2) / 2\n",
    "print(f'The middle point: ({s1}, {s2})')"
   ]
  },
  {
   "cell_type": "code",
   "execution_count": null,
   "metadata": {},
   "outputs": [],
   "source": [
    "a1 = 3\n",
    "a2 = 2\n",
    "b1 = -1\n",
    "b2 = -1\n",
    "distance = ((b1 - a1) ** 2 + (b2 - a2) ** 2)**(1/2)\n",
    "print(f'The distance between points A and B: {distance}')"
   ]
  },
  {
   "cell_type": "code",
   "execution_count": null,
   "metadata": {},
   "outputs": [],
   "source": [
    "a = 1\n",
    "b = 5\n",
    "c = 4\n",
    "delta = b ** 2 - 4 * a * c\n",
    "delta_sqrt = delta ** (1/2)\n",
    "x1 = (-b - delta_sqrt) / (2 * a)\n",
    "x2 = (-b + delta_sqrt) / (2 * a)\n",
    "print(f'x1 = {x1}')\n",
    "print(f'x2 = {x2}')"
   ]
  },
  {
   "cell_type": "code",
   "execution_count": null,
   "metadata": {},
   "outputs": [],
   "source": [
    "x1, x2, x3 = 10, 11, 9\n",
    "mean = (x1 + x2 + x3) / 3.0\n",
    "var = ((x1 - mean)**2 + (x2 - mean)**2 + (x3 - mean)**2) / 3.0\n",
    "std = var**(1/2)\n",
    "print(f'The standard deviation: {std:.2f}')"
   ]
  },
  {
   "cell_type": "markdown",
   "metadata": {},
   "source": [
    "### Booleans"
   ]
  },
  {
   "cell_type": "code",
   "execution_count": null,
   "metadata": {},
   "outputs": [],
   "source": [
    "isDay = False\n",
    "isNight = True\n",
    "\n",
    "print(isDay)\n",
    "print(isNight)"
   ]
  },
  {
   "cell_type": "code",
   "execution_count": null,
   "metadata": {},
   "outputs": [],
   "source": [
    "print(2 == 3)"
   ]
  },
  {
   "cell_type": "code",
   "execution_count": null,
   "metadata": {},
   "outputs": [],
   "source": [
    "print(2 != 3)"
   ]
  },
  {
   "cell_type": "code",
   "execution_count": null,
   "metadata": {},
   "outputs": [],
   "source": [
    "print(isDay == isNight)\n",
    "print(isDay != isNight)"
   ]
  },
  {
   "cell_type": "code",
   "execution_count": null,
   "metadata": {},
   "outputs": [],
   "source": [
    "print(isDay == True)\n",
    "print(isDay == False)"
   ]
  },
  {
   "cell_type": "markdown",
   "metadata": {},
   "source": [
    "### Data Types"
   ]
  },
  {
   "cell_type": "code",
   "execution_count": null,
   "metadata": {},
   "outputs": [],
   "source": [
    "var1 = ''\n",
    "var2 = ' '\n",
    "var3 = '\\n'\n",
    "\n",
    "print(type(var1))\n",
    "print(type(var2))\n",
    "print(type(var3))"
   ]
  },
  {
   "cell_type": "code",
   "execution_count": null,
   "metadata": {},
   "outputs": [],
   "source": [
    "var1 = None\n",
    "var2 = False\n",
    "var3 = 'True'\n",
    "\n",
    "print(type(var1))\n",
    "print(type(var2))\n",
    "print(type(var3))"
   ]
  },
  {
   "cell_type": "code",
   "execution_count": null,
   "metadata": {},
   "outputs": [],
   "source": [
    "print(isinstance(var3, str))\n",
    "\n",
    "print(isinstance(var3, bool))"
   ]
  },
  {
   "cell_type": "code",
   "execution_count": null,
   "metadata": {},
   "outputs": [],
   "source": [
    "flag = False\n",
    "print(isinstance(flag, bool))"
   ]
  },
  {
   "cell_type": "markdown",
   "metadata": {},
   "source": [
    "### Conditions (Control program flow)"
   ]
  },
  {
   "cell_type": "markdown",
   "metadata": {},
   "source": [
    "<img src=\"files/1/condition1.jpg\" height=\"400px\">\n",
    "<hr/>\n",
    "<img src=\"files/1/condition2.png\" height=\"400px\">"
   ]
  },
  {
   "cell_type": "code",
   "execution_count": null,
   "metadata": {},
   "outputs": [],
   "source": [
    "a = 1\n",
    "\n",
    "if a == 1:    \n",
    "    print(\"a is one.\")\n",
    "\n",
    "if a == 2:\n",
    "    print(\"a is two.\")\n",
    "\n",
    "if a > 0:\n",
    "    print(\"a is greater than one.\")\n",
    "\n",
    "if a > 0 and a < 1:\n",
    "    print(\"a is greater than zero and smaller than one.\")\n",
    "# commment\n",
    "# true is 1\n",
    "# false is 0\n",
    "# and => *\n",
    "# or => +\n",
    "# 1 * 1 = 1 => true\n",
    "if a > 0 and a <= 1:\n",
    "    print(\"a is greater than zero and smaller/equal than one.\")\n",
    "\n",
    "if a > 0 or a == 1:\n",
    "    print(\"a is zero or one.\")\n",
    "\n",
    "# 0 + 1 = 1\n",
    "if a == 0 or a == 1:\n",
    "    print(\"a is zero or one.\")\n",
    "\n",
    "# 1 + 1 = 1\n",
    "if a > 0 or a == 1:\n",
    "    print(\"a is greater than zero or it's one.\")"
   ]
  },
  {
   "cell_type": "code",
   "execution_count": null,
   "metadata": {},
   "outputs": [],
   "source": [
    "if a == 0:\n",
    "    print(\"a is zero.\")\n",
    "else:\n",
    "    print(\"a is not zero.\")"
   ]
  },
  {
   "cell_type": "code",
   "execution_count": null,
   "metadata": {},
   "outputs": [],
   "source": [
    "if a < 0:\n",
    "    print (\"a is smaller than zero.\")\n",
    "else:\n",
    "    print(\"a is greater than zero.\")"
   ]
  },
  {
   "cell_type": "code",
   "execution_count": null,
   "metadata": {},
   "outputs": [],
   "source": [
    "if a < 0:\n",
    "    print(\"a is smaller than zero.\")\n",
    "elif a == 0:\n",
    "    print(\"a is zero.\")\n",
    "elif a == 1:\n",
    "    print(\"a is one.\")\n",
    "else:\n",
    "    print(\"a is bigger than one.\")"
   ]
  },
  {
   "cell_type": "code",
   "execution_count": null,
   "metadata": {},
   "outputs": [],
   "source": [
    "number = 1.0\n",
    "if isinstance(number, int):\n",
    "    print('YES')\n",
    "else:\n",
    "    print('NO')"
   ]
  },
  {
   "cell_type": "code",
   "execution_count": null,
   "metadata": {},
   "outputs": [],
   "source": [
    "name = \"Hossein\"\n",
    "print(len(name))"
   ]
  },
  {
   "cell_type": "code",
   "execution_count": null,
   "metadata": {},
   "outputs": [],
   "source": [
    "password = 'cskdnjcasa#!'\n",
    "\n",
    "print(len(password))\n",
    "\n",
    "if len(password) >= 11:\n",
    "    print('Password correct')\n",
    "else:\n",
    "    print('Password too short')"
   ]
  },
  {
   "cell_type": "code",
   "execution_count": null,
   "metadata": {},
   "outputs": [],
   "source": [
    "password = 'cskdnjcasa#!'\n",
    "if len(password) >= 11 and '!' in password:\n",
    "    print('Password correct')\n",
    "else:\n",
    "    print('Password incorrect')"
   ]
  },
  {
   "cell_type": "code",
   "execution_count": null,
   "metadata": {},
   "outputs": [],
   "source": [
    "filename = '01012020_sales.xlsx'\n",
    "if filename.endswith('xlsx'):\n",
    "    print('YES')\n",
    "else:\n",
    "    print('NO')"
   ]
  },
  {
   "cell_type": "code",
   "execution_count": null,
   "metadata": {},
   "outputs": [],
   "source": [
    "code = 'DSVNDOICSN'\n",
    "if code.isupper():\n",
    "    print('Yes')"
   ]
  },
  {
   "cell_type": "code",
   "execution_count": null,
   "metadata": {},
   "outputs": [],
   "source": [
    "lang = input(\"What's the programming language you want to learn? \")\n",
    "\n",
    "if lang == \"JavaScript\":\n",
    "    print(\"You can become a web developer.\")\n",
    "\n",
    "elif lang == \"Python\":\n",
    "    print(\"You can become a Data Scientist\")\n",
    "\n",
    "elif lang == \"PHP\":\n",
    "    print(\"You can become a backend developer\")\n",
    "    \n",
    "elif lang == \"Solidity\":\n",
    "    print(\"You can become a Blockchain developer\")\n",
    "\n",
    "elif lang == \"Java\":\n",
    "    print(\"You can become a mobile app developer\")\n",
    "\n",
    "else:\n",
    "    print(\"The language doesn't matter, what matters is solving problems.\")"
   ]
  },
  {
   "cell_type": "markdown",
   "metadata": {},
   "source": [
    "#### Switch statement (Python 3.10 and newer versions)"
   ]
  },
  {
   "cell_type": "code",
   "execution_count": null,
   "metadata": {},
   "outputs": [],
   "source": [
    "lang = input(\"What's the programming language you want to learn? \")\n",
    "\n",
    "match lang:\n",
    "    case \"JavaScript\":\n",
    "        print(\"You can become a web developer.\")\n",
    "\n",
    "    case \"Python\":\n",
    "        print(\"You can become a Data Scientist\")\n",
    "\n",
    "    case \"PHP\":\n",
    "        print(\"You can become a backend developer\")\n",
    "    \n",
    "    case \"Solidity\":\n",
    "        print(\"You can become a Blockchain developer\")\n",
    "\n",
    "    case \"Java\":\n",
    "        print(\"You can become a mobile app developer\")\n",
    "\n",
    "    case _:\n",
    "        print(\"The language doesn't matter, what matters is solving problems.\")"
   ]
  }
 ],
 "metadata": {
  "kernelspec": {
   "display_name": "Python 3.10.7 64-bit",
   "language": "python",
   "name": "python3"
  },
  "language_info": {
   "codemirror_mode": {
    "name": "ipython",
    "version": 3
   },
   "file_extension": ".py",
   "mimetype": "text/x-python",
   "name": "python",
   "nbconvert_exporter": "python",
   "pygments_lexer": "ipython3",
   "version": "3.10.7"
  },
  "orig_nbformat": 4,
  "vscode": {
   "interpreter": {
    "hash": "369f2c481f4da34e4445cda3fffd2e751bd1c4d706f27375911949ba6bb62e1c"
   }
  }
 },
 "nbformat": 4,
 "nbformat_minor": 2
}
