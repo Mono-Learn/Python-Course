{
 "cells": [
  {
   "cell_type": "markdown",
   "metadata": {},
   "source": [
    "<div style=\"text-align:center\">\n",
    "    <img src=\"files/monolearn-logo.png\" height=\"150px\">\n",
    "    <h1>Python course</h1>\n",
    "    <h3>Session 04: Files, CSV, OOP overview, Databases overview</h3>\n",
    "    <h4><a href=\"https://amzenterprise.ir/\">Ali Momenzadeh</a></h5>\n",
    "</div>"
   ]
  },
  {
   "cell_type": "markdown",
   "metadata": {},
   "source": [
    "### Files"
   ]
  },
  {
   "cell_type": "markdown",
   "metadata": {},
   "source": [
    "#### Read from files"
   ]
  },
  {
   "cell_type": "code",
   "execution_count": null,
   "metadata": {},
   "outputs": [],
   "source": [
    "with open('files/4/first.txt', 'r') as file:\n",
    "    line = file.readline()\n",
    "\n",
    "print(line)"
   ]
  },
  {
   "cell_type": "code",
   "execution_count": null,
   "metadata": {},
   "outputs": [],
   "source": [
    "# with open('files/4/second.txt', 'r') as file:\n",
    "#     line = file.readline()\n",
    "\n",
    "# print(line)"
   ]
  },
  {
   "cell_type": "code",
   "execution_count": null,
   "metadata": {},
   "outputs": [],
   "source": [
    "with open('files/4/first.txt', 'r') as file:\n",
    "    #chars = file.read()\n",
    "    lines = file.read().splitlines()\n",
    "\n",
    "#print(f\"Number of chars is: {len(chars)}\")\n",
    "\n",
    "for line in lines:\n",
    "    print(line)"
   ]
  },
  {
   "cell_type": "code",
   "execution_count": null,
   "metadata": {},
   "outputs": [],
   "source": [
    "with open('files/4/first.txt', 'r') as file:\n",
    "    lines = file.read().split('.')\n",
    "\n",
    "print(lines)"
   ]
  },
  {
   "cell_type": "code",
   "execution_count": null,
   "metadata": {},
   "outputs": [],
   "source": [
    "import csv\n",
    "\n",
    "with open('files/4/scores.csv') as f:\n",
    "    reader = csv.reader(f)\n",
    "    # print(reader)\n",
    "    for row in reader:\n",
    "        print(row)"
   ]
  },
  {
   "cell_type": "code",
   "execution_count": null,
   "metadata": {},
   "outputs": [],
   "source": [
    "import csv\n",
    "\n",
    "with open('files/4/scores.csv') as f:\n",
    "    reader = csv.reader(f)\n",
    "    for row in reader:\n",
    "        for grade in row[1:]:\n",
    "            name = row[0]\n",
    "            print(f'{name} got {grade}')"
   ]
  },
  {
   "cell_type": "code",
   "execution_count": null,
   "metadata": {},
   "outputs": [],
   "source": [
    "import csv\n",
    "import math\n",
    "\n",
    "with open('files/4/scores.csv') as f:\n",
    "    reader = csv.reader(f)\n",
    "    for row in reader:\n",
    "        for grade in row[1:]:\n",
    "            name = row[0]\n",
    "            std_grades = list()\n",
    "            for grade in row[1:]:\n",
    "                std_grades.append(grade)\n",
    "\n",
    "        \n",
    "        print(name, std_grades)\n",
    "\n",
    "        std_grades_float = list(map(float, std_grades))\n",
    "        std_grades_sum = math.fsum(std_grades_float)\n",
    "        std_avg = std_grades_sum/len(std_grades_float)\n",
    "        \n",
    "        print(f\"{name} avg is: {round(std_avg, 2)}\")"
   ]
  },
  {
   "cell_type": "markdown",
   "metadata": {},
   "source": [
    "#### Save to files"
   ]
  },
  {
   "cell_type": "code",
   "execution_count": null,
   "metadata": {},
   "outputs": [],
   "source": [
    "with open(\"files/4/my_new_file.txt\", \"w\") as file:\n",
    "    file.write(\"World \\n\")"
   ]
  },
  {
   "cell_type": "code",
   "execution_count": null,
   "metadata": {},
   "outputs": [],
   "source": [
    "with open(\"files/4/my_new_file.txt\", \"a+\") as file:\n",
    "    file.write(\"Hello \\n\")"
   ]
  },
  {
   "cell_type": "code",
   "execution_count": null,
   "metadata": {},
   "outputs": [],
   "source": [
    "my_list = [\"This is Delhi. \\n\", \"This is Paris. \\n\", \"This is London. \\n\"]\n",
    "\n",
    "with open(\"files/4/my_new_file2.txt\", \"w\") as file:\n",
    "    file.writelines(my_list)"
   ]
  },
  {
   "cell_type": "code",
   "execution_count": null,
   "metadata": {},
   "outputs": [],
   "source": [
    "numbers = list(range(1, 20))\n",
    "even = [number for number in numbers if number % 2 == 0]\n",
    "\n",
    "with open('files/4/my_new_file3.txt', 'w') as file:\n",
    "    for num in even:\n",
    "        file.write(str(num) + '\\n')"
   ]
  },
  {
   "cell_type": "code",
   "execution_count": null,
   "metadata": {},
   "outputs": [],
   "source": [
    "import json\n",
    "\n",
    "stocks = {'PLW': ['Playway', 350], 'BBT': ['Boombit', 22]}\n",
    "\n",
    "with open('files/4/my_new_file4.json', 'w') as file:\n",
    "    json.dump(stocks, file, indent=4)"
   ]
  },
  {
   "cell_type": "code",
   "execution_count": null,
   "metadata": {},
   "outputs": [],
   "source": [
    "headers = ['user_id', 'amount']\n",
    "users = [['001', '1400'], ['004', '1300'], ['007', '900']]\n",
    "\n",
    "with open('files/4/my_new_file5.csv', 'w') as file:\n",
    "    file.write(','.join(headers) + '\\n')\n",
    "    for user in users:\n",
    "        file.write(','.join(user) + '\\n')"
   ]
  },
  {
   "cell_type": "code",
   "execution_count": null,
   "metadata": {},
   "outputs": [],
   "source": [
    "# with open('files/4/my_new_file6.txt', \"w\") as file:\n",
    "#     file.write(\"سلام خوبی؟\")\n",
    "\n",
    "with open('files/4/my_new_file6.txt', \"w\", encoding= \"utf-8\") as file:\n",
    "    file.write(\"سلام خوبی؟\")"
   ]
  },
  {
   "cell_type": "markdown",
   "metadata": {},
   "source": [
    "#### Delete files"
   ]
  },
  {
   "cell_type": "code",
   "execution_count": null,
   "metadata": {},
   "outputs": [],
   "source": [
    "import os\n",
    "os.remove('files/4/my_new_file6.txt')"
   ]
  },
  {
   "cell_type": "code",
   "execution_count": null,
   "metadata": {},
   "outputs": [],
   "source": [
    "import os\n",
    "if os.path.exists('files/4/my_new_file6.txt'):\n",
    "  os.remove('files/4/my_new_file6.txt')\n",
    "else:\n",
    "  print(\"The file does not exist\")"
   ]
  },
  {
   "cell_type": "markdown",
   "metadata": {},
   "source": [
    "### OOP (Object Oriented Programming)"
   ]
  },
  {
   "cell_type": "code",
   "execution_count": null,
   "metadata": {},
   "outputs": [],
   "source": [
    "class Person:\n",
    "    count = 0\n",
    "\n",
    "    # constructor\n",
    "    def __init__(self, name, age):\n",
    "        self.name = name\n",
    "        self.age = age\n",
    "\n",
    "    def get_name(self):\n",
    "        print('Name is %s' % self.name)\n",
    "\n",
    "    def get_birthday(self):\n",
    "        self.age += 1\n",
    "        print('Birthday is %s' % self.age)\n",
    "\n",
    "\n",
    "ali = Person('Ali', 23)\n",
    "\n",
    "ali.get_name()\n",
    "ali.get_birthday()\n",
    "print(ali.count)\n",
    "\n",
    "print(\"-\" * 40)\n",
    "\n",
    "mohammad = Person('Mohammad', 29)\n",
    "\n",
    "mohammad.get_name()\n",
    "mohammad.get_birthday()\n",
    "print(mohammad.count)"
   ]
  },
  {
   "cell_type": "code",
   "execution_count": null,
   "metadata": {},
   "outputs": [],
   "source": [
    "class Computer:\n",
    "    def __init__(self, ram, hard, cpu):\n",
    "        self.ram = ram\n",
    "        self.hard = hard\n",
    "        self.cpu = cpu\n",
    "\n",
    "    def print_info(self):\n",
    "        print('Ram is %s' % self.ram)\n",
    "        print('Hard is %s' % self.hard)\n",
    "        print('CPU is %s' % self.cpu)\n",
    "\n",
    "class Laptop(Computer):\n",
    "    def __init__(self, ram, hard, cpu, screen):\n",
    "        Computer.__init__(self, ram, hard, cpu)\n",
    "        self.screen = screen\n",
    "\n",
    "    def print_info(self):\n",
    "        super().print_info()\n",
    "        print('Screen is %s' % self.screen)\n",
    "\n",
    "pc1 = Computer(8, 'ssd', 'i7')\n",
    "pc1.print_info()\n",
    "\n",
    "print(\"-\" * 40)\n",
    "\n",
    "lap1 = Laptop(12, 'ssd', 'i9', '11.6')\n",
    "lap1.print_info()"
   ]
  },
  {
   "cell_type": "code",
   "execution_count": null,
   "metadata": {},
   "outputs": [],
   "source": [
    "class Bird:\n",
    "   \n",
    "    def intro(self):\n",
    "        print(\"There are many types of birds.\")\n",
    " \n",
    "    def flight(self):\n",
    "        print(\"Most of the birds can fly but some cannot.\")\n",
    " \n",
    "class sparrow(Bird):\n",
    "   \n",
    "    def flight(self):\n",
    "        print(\"Sparrows can fly.\")\n",
    " \n",
    "class ostrich(Bird):\n",
    " \n",
    "    def flight(self):\n",
    "        print(\"Ostriches cannot fly.\")\n",
    " \n",
    "obj_bird = Bird()\n",
    "obj_spr = sparrow()\n",
    "obj_ost = ostrich()\n",
    " \n",
    "obj_bird.intro()\n",
    "obj_bird.flight()\n",
    "\n",
    "print(\"-\" * 40)\n",
    "\n",
    "obj_spr.intro()\n",
    "obj_spr.flight()\n",
    "\n",
    "print(\"-\" * 40)\n",
    " \n",
    "obj_ost.intro()\n",
    "obj_ost.flight()"
   ]
  },
  {
   "cell_type": "markdown",
   "metadata": {},
   "source": [
    "### SQL databases (MySQL)"
   ]
  },
  {
   "cell_type": "markdown",
   "metadata": {},
   "source": [
    "###### To download MySQL windows installer: \n",
    "###### https://dl3.downloadly.ir/Files/Software/MySQL_Community_Server_8.0.30_MSI_Downloadly.ir.rar\n",
    "###### https://cdna.p30download.ir/p30dl-software/HeidiSQL.v12.1.0.6537_p30download.com.rar\n",
    "\n",
    "###### More on MySQL and Python: https://www.w3schools.com/python/python_mysql_getstarted.asp"
   ]
  },
  {
   "cell_type": "code",
   "execution_count": 3,
   "metadata": {},
   "outputs": [],
   "source": [
    "import mysql.connector\n",
    "\n",
    "cnx = mysql.connector.connect(\n",
    "                                user='YOUR_USERNAME', \n",
    "                                password='YOUR_PASSWORD',\n",
    "                                host='127.0.0.1',\n",
    "                                database='company'\n",
    "                            )\n",
    "\n",
    "cursor = cnx.cursor()\n",
    "\n",
    "# cursor.execute(\"INSERT INTO Workers VALUES (0,'Ali', 'M',20)\")\n",
    "# cursor.execute(\"INSERT INTO Workers VALUES (0,'Mahdi', 'M',50)\")\n",
    "# cursor.execute(\"INSERT INTO Workers VALUES (0,'Sara', 'F',10)\")\n",
    "\n",
    "# cnx.commit()\n",
    "\n",
    "\n",
    "# query = \"SELECT * FROM Workers\"\n",
    "# cursor.execute(query)\n",
    "\n",
    "# for (id, name, gender, rate) in cursor:\n",
    "#     print(\"{}'s rate is {}.\".format(name, rate))\n",
    "\n",
    "\n",
    "cursor.execute(\"DELETE FROM Workers WHERE Id = 7\")\n",
    "cnx.commit()\n",
    "\n",
    "cnx.close()"
   ]
  }
 ],
 "metadata": {
  "kernelspec": {
   "display_name": "Python 3.10.7 64-bit",
   "language": "python",
   "name": "python3"
  },
  "language_info": {
   "codemirror_mode": {
    "name": "ipython",
    "version": 3
   },
   "file_extension": ".py",
   "mimetype": "text/x-python",
   "name": "python",
   "nbconvert_exporter": "python",
   "pygments_lexer": "ipython3",
   "version": "3.10.7"
  },
  "orig_nbformat": 4,
  "vscode": {
   "interpreter": {
    "hash": "369f2c481f4da34e4445cda3fffd2e751bd1c4d706f27375911949ba6bb62e1c"
   }
  }
 },
 "nbformat": 4,
 "nbformat_minor": 2
}
